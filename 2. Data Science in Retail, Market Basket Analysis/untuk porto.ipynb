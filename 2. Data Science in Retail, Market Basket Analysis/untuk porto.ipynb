{
 "cells": [
  {
   "cell_type": "markdown",
   "metadata": {
    "Collapsed": "false"
   },
   "source": [
    "# R Project: Market Basket Analysis"
   ]
  },
  {
   "cell_type": "markdown",
   "metadata": {
    "Collapsed": "false"
   },
   "source": [
    "Dalam project R kali ini, akan dilakukan analisis untuk menentukan kombinasi produk yang tepat sesuai dengan kebiasaan *customer* yang berbelanja di sebuah toko retail. Hasil dari analisis tersebut diharapkan dapat menjadi acuan untuk memberikan penawaran terhadap *customer* untuk membeli produk tambahan sesuai dari kebiasaan para *customer* sebelumnya, atau bisa dijadikan acuan untuk membuat pemaketan produk.\n",
    "\n",
    "Akan diguanakan algoritma **Apriori** yang merupakan algoritma **asosiasi/association rules (arules)** dalam Machine Learning. Secara teknis, algoritma apriori akan mencari tingkat asosiasi antar item di dalam banyak kombinasi kelompok data secara otomatis. Kombinasi ini juga bisa disusun dengan suatu aturan (rule) asosiasi \"Jika membeli ini produk A maka akan membeli produk B\""
   ]
  },
  {
   "cell_type": "markdown",
   "metadata": {
    "Collapsed": "false"
   },
   "source": [
    "## Membaca File Transaksi"
   ]
  },
  {
   "cell_type": "markdown",
   "metadata": {
    "Collapsed": "false"
   },
   "source": [
    "### Sebagai Tipe Dataframe"
   ]
  },
  {
   "cell_type": "code",
   "execution_count": 1,
   "metadata": {
    "Collapsed": "false"
   },
   "outputs": [],
   "source": [
    "transaksi_df <- read.csv(\"https://academy.dqlab.id/dataset/data_transaksi.txt\", sep=\"\\t\")"
   ]
  },
  {
   "cell_type": "code",
   "execution_count": 4,
   "metadata": {
    "Collapsed": "false"
   },
   "outputs": [
    {
     "data": {
      "text/html": [
       "<table>\n",
       "<thead><tr><th scope=col>Kode.Transaksi</th><th scope=col>Item</th></tr></thead>\n",
       "<tbody>\n",
       "\t<tr><td>#01      </td><td>Teh Celup</td></tr>\n",
       "\t<tr><td>#01      </td><td>Sirup    </td></tr>\n",
       "\t<tr><td>#01      </td><td>Pet Food </td></tr>\n",
       "\t<tr><td>#02      </td><td>Teh Celup</td></tr>\n",
       "\t<tr><td>#02      </td><td>Gula     </td></tr>\n",
       "\t<tr><td>#03      </td><td>Sirup    </td></tr>\n",
       "\t<tr><td>#03      </td><td>Pet Food </td></tr>\n",
       "\t<tr><td>#04      </td><td>Teh Celup</td></tr>\n",
       "\t<tr><td>#04      </td><td>Sirup    </td></tr>\n",
       "\t<tr><td>#05      </td><td>Teh Celup</td></tr>\n",
       "</tbody>\n",
       "</table>\n"
      ],
      "text/latex": [
       "\\begin{tabular}{r|ll}\n",
       " Kode.Transaksi & Item\\\\\n",
       "\\hline\n",
       "\t \\#01     & Teh Celup\\\\\n",
       "\t \\#01     & Sirup    \\\\\n",
       "\t \\#01     & Pet Food \\\\\n",
       "\t \\#02     & Teh Celup\\\\\n",
       "\t \\#02     & Gula     \\\\\n",
       "\t \\#03     & Sirup    \\\\\n",
       "\t \\#03     & Pet Food \\\\\n",
       "\t \\#04     & Teh Celup\\\\\n",
       "\t \\#04     & Sirup    \\\\\n",
       "\t \\#05     & Teh Celup\\\\\n",
       "\\end{tabular}\n"
      ],
      "text/markdown": [
       "\n",
       "| Kode.Transaksi | Item |\n",
       "|---|---|\n",
       "| #01       | Teh Celup |\n",
       "| #01       | Sirup     |\n",
       "| #01       | Pet Food  |\n",
       "| #02       | Teh Celup |\n",
       "| #02       | Gula      |\n",
       "| #03       | Sirup     |\n",
       "| #03       | Pet Food  |\n",
       "| #04       | Teh Celup |\n",
       "| #04       | Sirup     |\n",
       "| #05       | Teh Celup |\n",
       "\n"
      ],
      "text/plain": [
       "   Kode.Transaksi Item     \n",
       "1  #01            Teh Celup\n",
       "2  #01            Sirup    \n",
       "3  #01            Pet Food \n",
       "4  #02            Teh Celup\n",
       "5  #02            Gula     \n",
       "6  #03            Sirup    \n",
       "7  #03            Pet Food \n",
       "8  #04            Teh Celup\n",
       "9  #04            Sirup    \n",
       "10 #05            Teh Celup"
      ]
     },
     "metadata": {},
     "output_type": "display_data"
    }
   ],
   "source": [
    "# Menampilkan data transaksi \n",
    "head(transaksi_df,10)"
   ]
  },
  {
   "cell_type": "markdown",
   "metadata": {
    "Collapsed": "false"
   },
   "source": [
    "Dari dataframe tersebut, terdapat dua kolom (Kode.Transaksi dan Item). Kode.Transaksi berisikan sejumlah kode transaksi. Apabila kode transaksinya sama, maka dapat diartikan bahwa transaksi tersebut dilakukan dalam waktu yang sama. Serta kolom item yang berisikan nama produk yang dibeli oleh *customer*."
   ]
  },
  {
   "cell_type": "markdown",
   "metadata": {
    "Collapsed": "false"
   },
   "source": [
    "### Sebagai Tipe Transactions"
   ]
  },
  {
   "cell_type": "code",
   "execution_count": 5,
   "metadata": {
    "Collapsed": "false",
    "collapsed": true,
    "jupyter": {
     "outputs_hidden": true
    }
   },
   "outputs": [
    {
     "name": "stderr",
     "output_type": "stream",
     "text": [
      "Warning message:\n",
      "\"package 'arules' was built under R version 3.6.3\"Loading required package: Matrix\n",
      "\n",
      "Attaching package: 'arules'\n",
      "\n",
      "The following objects are masked from 'package:base':\n",
      "\n",
      "    abbreviate, write\n",
      "\n"
     ]
    }
   ],
   "source": [
    "# Import library\n",
    "library('arules')"
   ]
  },
  {
   "cell_type": "code",
   "execution_count": 6,
   "metadata": {
    "Collapsed": "false"
   },
   "outputs": [],
   "source": [
    "# Memasukkan data transaksi ke dalam variable transaksi\n",
    "transaksi <- read.transactions(file = \"https://academy.dqlab.id/dataset/data_transaksi.txt\",\n",
    "                              format = 'single',\n",
    "                              sep =  '\\t',\n",
    "                              cols = c(1,2),\n",
    "                              skip = 1)"
   ]
  },
  {
   "cell_type": "markdown",
   "metadata": {
    "Collapsed": "false"
   },
   "source": [
    "* **file** : parameter untuk menampung source dari data transaksi\n",
    "* **format** : terdapat dua jenis format, 'single' dan 'basket'. 'single', data transaksi dibagi (minimal 2 kolom) berdasarkan transaksi pada produk. 'basket', ketika produk data yang digunakan dikumpulkan dalam satu kolom dan pencatatan transaksi masuk dilakukan perbaris\n",
    "* **sep**: kode pemisah, '\\t' untuk tabular\n",
    "* **cols**: kolom yang digunakan untuk analisis\n",
    "* **skip**: melewati satu baris yang merupakan baris yang diguanakan sebagai header"
   ]
  },
  {
   "cell_type": "code",
   "execution_count": 8,
   "metadata": {
    "Collapsed": "false"
   },
   "outputs": [
    {
     "data": {
      "text/plain": [
       "transactions in sparse format with\n",
       " 10 transactions (rows) and\n",
       " 4 items (columns)"
      ]
     },
     "metadata": {},
     "output_type": "display_data"
    }
   ],
   "source": [
    "transaksi "
   ]
  },
  {
   "cell_type": "code",
   "execution_count": 9,
   "metadata": {
    "Collapsed": "false"
   },
   "outputs": [
    {
     "data": {
      "text/html": [
       "<table>\n",
       "<thead><tr><th scope=col>transactionID</th></tr></thead>\n",
       "<tbody>\n",
       "\t<tr><td>#01</td></tr>\n",
       "\t<tr><td>#02</td></tr>\n",
       "\t<tr><td>#03</td></tr>\n",
       "\t<tr><td>#04</td></tr>\n",
       "\t<tr><td>#05</td></tr>\n",
       "\t<tr><td>#06</td></tr>\n",
       "\t<tr><td>#07</td></tr>\n",
       "\t<tr><td>#08</td></tr>\n",
       "\t<tr><td>#09</td></tr>\n",
       "\t<tr><td>#10</td></tr>\n",
       "</tbody>\n",
       "</table>\n"
      ],
      "text/latex": [
       "\\begin{tabular}{r|l}\n",
       " transactionID\\\\\n",
       "\\hline\n",
       "\t \\#01\\\\\n",
       "\t \\#02\\\\\n",
       "\t \\#03\\\\\n",
       "\t \\#04\\\\\n",
       "\t \\#05\\\\\n",
       "\t \\#06\\\\\n",
       "\t \\#07\\\\\n",
       "\t \\#08\\\\\n",
       "\t \\#09\\\\\n",
       "\t \\#10\\\\\n",
       "\\end{tabular}\n"
      ],
      "text/markdown": [
       "\n",
       "| transactionID |\n",
       "|---|\n",
       "| #01 |\n",
       "| #02 |\n",
       "| #03 |\n",
       "| #04 |\n",
       "| #05 |\n",
       "| #06 |\n",
       "| #07 |\n",
       "| #08 |\n",
       "| #09 |\n",
       "| #10 |\n",
       "\n"
      ],
      "text/plain": [
       "   transactionID\n",
       "1  #01          \n",
       "2  #02          \n",
       "3  #03          \n",
       "4  #04          \n",
       "5  #05          \n",
       "6  #06          \n",
       "7  #07          \n",
       "8  #08          \n",
       "9  #09          \n",
       "10 #10          "
      ]
     },
     "metadata": {},
     "output_type": "display_data"
    }
   ],
   "source": [
    "# Menampilkan kode transaksi unik \n",
    "transaksi@itemsetInfo"
   ]
  },
  {
   "cell_type": "code",
   "execution_count": 10,
   "metadata": {
    "Collapsed": "false"
   },
   "outputs": [
    {
     "data": {
      "text/plain": [
       "4 x 10 sparse Matrix of class \"ngCMatrix\"\n",
       "                        \n",
       "[1,] . | . . | . . . | |\n",
       "[2,] | . | . . | | . . |\n",
       "[3,] | . | | | . | . . |\n",
       "[4,] | | . | | | | | | ."
      ]
     },
     "metadata": {},
     "output_type": "display_data"
    }
   ],
   "source": [
    "# Menampilkan data transaksi dalam bentuk matriks\n",
    "transaksi@data"
   ]
  },
  {
   "cell_type": "markdown",
   "metadata": {
    "Collapsed": "false"
   },
   "source": [
    "Berikut adalah penjelasan hasilnya:\n",
    "\n",
    "- **4 x 10** :  artinya terdapat 4 item dan 10 transaksi.\n",
    "- **[1,]** s/d **[4,]** : artinya index yang mewakili tiap item dalam transaksi:\n",
    "```        labels\n",
    "1         Gula\n",
    "2     Pet Food\n",
    "3        Sirup\n",
    "4    Teh Celup\n",
    "```\n",
    "dengan demikian, item Gula diwakili [1,], Pet Food diwakili [2,], dan seterusnya.\n",
    "- Simbol tanda titik .  menunjukkan item tidak ada di transaksi.\n",
    "- Simbol garis lurus |  menunjukkan bahwa item ada di transaksi.\n"
   ]
  },
  {
   "cell_type": "markdown",
   "metadata": {
    "Collapsed": "false"
   },
   "source": [
    "#### Menampilkan Jumlah Kemunculan Produk per-Transaksi"
   ]
  },
  {
   "cell_type": "code",
   "execution_count": 15,
   "metadata": {
    "Collapsed": "false"
   },
   "outputs": [
    {
     "data": {
      "text/html": [
       "<dl class=dl-horizontal>\n",
       "\t<dt>Gula</dt>\n",
       "\t\t<dd>0.4</dd>\n",
       "\t<dt>Pet Food</dt>\n",
       "\t\t<dd>0.5</dd>\n",
       "\t<dt>Sirup</dt>\n",
       "\t\t<dd>0.6</dd>\n",
       "\t<dt>Teh Celup</dt>\n",
       "\t\t<dd>0.8</dd>\n",
       "</dl>\n"
      ],
      "text/latex": [
       "\\begin{description*}\n",
       "\\item[Gula] 0.4\n",
       "\\item[Pet Food] 0.5\n",
       "\\item[Sirup] 0.6\n",
       "\\item[Teh Celup] 0.8\n",
       "\\end{description*}\n"
      ],
      "text/markdown": [
       "Gula\n",
       ":   0.4Pet Food\n",
       ":   0.5Sirup\n",
       ":   0.6Teh Celup\n",
       ":   0.8\n",
       "\n"
      ],
      "text/plain": [
       "     Gula  Pet Food     Sirup Teh Celup \n",
       "      0.4       0.5       0.6       0.8 "
      ]
     },
     "metadata": {},
     "output_type": "display_data"
    },
    {
     "data": {
      "image/png": "[encoded data removed]",
      "text/plain": [
       "plot without title"
      ]
     },
     "metadata": {},
     "output_type": "display_data"
    }
   ],
   "source": [
    "itemFrequency(transaksi)\n",
    "itemFrequencyPlot(transaksi)"
   ]
  },
  {
   "cell_type": "markdown",
   "metadata": {
    "Collapsed": "false"
   },
   "source": [
    "Hasil ini menunjukkan bahwa frekuensi kemunculan Gula adalah 0.4 atau 40 persen dari porsi seluruh transaksi yang ada, Pet Food menempati 50 persen, dan seterusnya. Untuk menampilkan angka yang sebenarnya dari kemunculan produk, digunakan:"
   ]
  },
  {
   "cell_type": "code",
   "execution_count": 16,
   "metadata": {
    "Collapsed": "false"
   },
   "outputs": [
    {
     "data": {
      "text/html": [
       "<dl class=dl-horizontal>\n",
       "\t<dt>Gula</dt>\n",
       "\t\t<dd>4</dd>\n",
       "\t<dt>Pet Food</dt>\n",
       "\t\t<dd>5</dd>\n",
       "\t<dt>Sirup</dt>\n",
       "\t\t<dd>6</dd>\n",
       "\t<dt>Teh Celup</dt>\n",
       "\t\t<dd>8</dd>\n",
       "</dl>\n"
      ],
      "text/latex": [
       "\\begin{description*}\n",
       "\\item[Gula] 4\n",
       "\\item[Pet Food] 5\n",
       "\\item[Sirup] 6\n",
       "\\item[Teh Celup] 8\n",
       "\\end{description*}\n"
      ],
      "text/markdown": [
       "Gula\n",
       ":   4Pet Food\n",
       ":   5Sirup\n",
       ":   6Teh Celup\n",
       ":   8\n",
       "\n"
      ],
      "text/plain": [
       "     Gula  Pet Food     Sirup Teh Celup \n",
       "        4         5         6         8 "
      ]
     },
     "metadata": {},
     "output_type": "display_data"
    },
    {
     "data": {
      "image/png": "[encoded data removed]",
      "text/plain": [
       "plot without title"
      ]
     },
     "metadata": {},
     "output_type": "display_data"
    }
   ],
   "source": [
    "itemFrequency(transaksi, type = 'absolute')\n",
    "itemFrequencyPlot(transaksi, type = 'absolute')"
   ]
  },
  {
   "cell_type": "markdown",
   "metadata": {
    "Collapsed": "false"
   },
   "source": [
    "Ini artinya Gula memiliki kemunculan 4 kali dari seluruh transaksi yang ada, Pet Food muncul sebanyak 5 kali, Sirup sebanyak 6 kali, dan Teh Celup sebanyak 8 kali."
   ]
  },
  {
   "cell_type": "markdown",
   "metadata": {
    "Collapsed": "false"
   },
   "source": [
    "#### Mana 3 item yang memiliki jumlah terbanyak di seluruh transaksi?"
   ]
  },
  {
   "cell_type": "code",
   "execution_count": 18,
   "metadata": {
    "Collapsed": "false"
   },
   "outputs": [
    {
     "data": {
      "text/html": [
       "<table>\n",
       "<thead><tr><th scope=col>Nama.Produk</th><th scope=col>Jumlah</th></tr></thead>\n",
       "<tbody>\n",
       "\t<tr><td>Teh Celup</td><td>8        </td></tr>\n",
       "\t<tr><td>Sirup    </td><td>6        </td></tr>\n",
       "\t<tr><td>Pet Food </td><td>5        </td></tr>\n",
       "</tbody>\n",
       "</table>\n"
      ],
      "text/latex": [
       "\\begin{tabular}{r|ll}\n",
       " Nama.Produk & Jumlah\\\\\n",
       "\\hline\n",
       "\t Teh Celup & 8        \\\\\n",
       "\t Sirup     & 6        \\\\\n",
       "\t Pet Food  & 5        \\\\\n",
       "\\end{tabular}\n"
      ],
      "text/markdown": [
       "\n",
       "| Nama.Produk | Jumlah |\n",
       "|---|---|\n",
       "| Teh Celup | 8         |\n",
       "| Sirup     | 6         |\n",
       "| Pet Food  | 5         |\n",
       "\n"
      ],
      "text/plain": [
       "  Nama.Produk Jumlah\n",
       "1 Teh Celup   8     \n",
       "2 Sirup       6     \n",
       "3 Pet Food    5     "
      ]
     },
     "metadata": {},
     "output_type": "display_data"
    }
   ],
   "source": [
    "data_item <- itemFrequency(transaksi, type = 'absolute')\n",
    "\n",
    "# Melakukan sorting\n",
    "data_item <- sort(data_item, decreasing = TRUE)\n",
    "\n",
    "# Mengambil 3 item pertama\n",
    "data_item <- data_item[1:3]\n",
    "\n",
    "# Konversi ke dataframe\n",
    "data_item <- data.frame(\"Nama Produk\" = names(data_item),\n",
    "                       \"Jumlah\" = data_item,\n",
    "                       row.names = NULL)\n",
    "\n",
    "#Menulis File Statistik Top 3\n",
    "write.csv(data_item, file=\"top3_item_retail.txt\", eol = \"\\r\\n\")\n",
    "\n",
    "# Menampilkan\n",
    "data_item"
   ]
  },
  {
   "cell_type": "markdown",
   "metadata": {
    "Collapsed": "false"
   },
   "source": [
    "#### Melihat Itemset per Transaksi"
   ]
  },
  {
   "cell_type": "markdown",
   "metadata": {
    "Collapsed": "false"
   },
   "source": [
    "Tiap transaksi terdiri atas beberapa item atau itemset. Pada praktek sebelumnya, kita baru melihat visualisasi dan sebaran matrix dari tiap transaksi namun masih sulit dicerna.\n",
    "\n",
    "Untuk melihat notasi itemset yang lebih baik dan mudah dimengerti kita bisa menggunakan function **inspect**.\n",
    "\n",
    "Penggunaan function ini juga sederhana. Seperti terlihat pada contoh berikut dimana kita inspect variable transaksi kita."
   ]
  },
  {
   "cell_type": "code",
   "execution_count": 20,
   "metadata": {
    "Collapsed": "false"
   },
   "outputs": [
    {
     "name": "stdout",
     "output_type": "stream",
     "text": [
      "     items                      transactionID\n",
      "[1]  {Pet Food,Sirup,Teh Celup} #01          \n",
      "[2]  {Gula,Teh Celup}           #02          \n",
      "[3]  {Pet Food,Sirup}           #03          \n",
      "[4]  {Sirup,Teh Celup}          #04          \n",
      "[5]  {Gula,Sirup,Teh Celup}     #05          \n",
      "[6]  {Pet Food,Teh Celup}       #06          \n",
      "[7]  {Pet Food,Sirup,Teh Celup} #07          \n",
      "[8]  {Teh Celup}                #08          \n",
      "[9]  {Gula,Teh Celup}           #09          \n",
      "[10] {Gula,Pet Food,Sirup}      #10          \n"
     ]
    }
   ],
   "source": [
    "inspect(transaksi)"
   ]
  },
  {
   "cell_type": "markdown",
   "metadata": {
    "Collapsed": "false"
   },
   "source": [
    "Ini merupakan hasil dari transaksi yang terdapat berbagai kombinasi produk yang dibeli per transaksinya. Sebagai contoh: *Pet Food,Sirup,Teh Celup* berada pada transaksi #01 dan seterusnya. Ini juga selaras dengan data transaksi yang ada pada **transaksi_df** sebelumnya. "
   ]
  },
  {
   "cell_type": "markdown",
   "metadata": {
    "Collapsed": "false"
   },
   "source": [
    "#### Menghasilkan Rules dengan Apriori"
   ]
  },
  {
   "cell_type": "code",
   "execution_count": 22,
   "metadata": {
    "Collapsed": "false"
   },
   "outputs": [
    {
     "name": "stdout",
     "output_type": "stream",
     "text": [
      "Apriori\n",
      "\n",
      "Parameter specification:\n",
      " confidence minval smax arem  aval originalSupport maxtime support minlen\n",
      "        0.8    0.1    1 none FALSE            TRUE       5     0.1      1\n",
      " maxlen target  ext\n",
      "     10  rules TRUE\n",
      "\n",
      "Algorithmic control:\n",
      " filter tree heap memopt load sort verbose\n",
      "    0.1 TRUE TRUE  FALSE TRUE    2    TRUE\n",
      "\n",
      "Absolute minimum support count: 1 \n",
      "\n",
      "set item appearances ...[0 item(s)] done [0.00s].\n",
      "set transactions ...[4 item(s), 10 transaction(s)] done [0.00s].\n",
      "sorting and recoding items ... [4 item(s)] done [0.00s].\n",
      "creating transaction tree ... done [0.00s].\n",
      "checking subsets of size 1 2 3 done [0.00s].\n",
      "writing ... [3 rule(s)] done [0.00s].\n",
      "creating S4 object  ... done [0.00s].\n"
     ]
    },
    {
     "data": {
      "text/plain": [
       "set of 3 rules "
      ]
     },
     "metadata": {},
     "output_type": "display_data"
    }
   ],
   "source": [
    "mba <- apriori(transaksi)\n",
    "mba"
   ]
  },
  {
   "cell_type": "markdown",
   "metadata": {
    "Collapsed": "false"
   },
   "source": [
    "Hasilnya, 3 rules dibuat dari data transaksi tersebut"
   ]
  },
  {
   "cell_type": "markdown",
   "metadata": {
    "Collapsed": "false"
   },
   "source": [
    "#### Menampilkan Rules yang Dihasilkan"
   ]
  },
  {
   "cell_type": "code",
   "execution_count": 24,
   "metadata": {
    "Collapsed": "false"
   },
   "outputs": [
    {
     "name": "stdout",
     "output_type": "stream",
     "text": [
      "    lhs                rhs         support confidence coverage lift     count\n",
      "[1] {}              => {Teh Celup} 0.8     0.8        1.0      1.000000 8    \n",
      "[2] {Pet Food}      => {Sirup}     0.4     0.8        0.5      1.333333 4    \n",
      "[3] {Gula,Pet Food} => {Sirup}     0.1     1.0        0.1      1.666667 1    \n"
     ]
    }
   ],
   "source": [
    "inspect(mba)"
   ]
  },
  {
   "cell_type": "markdown",
   "metadata": {
    "Collapsed": "false"
   },
   "source": [
    "Terlihat kalau variable **mba** menyimpan tiga rules dengan kolom-kolom berikut:\n",
    "- **lhs**: itemset di bagian kiri (left hand side)\n",
    "- **rhs**: itemset di bagian kanan (right hand side)\n",
    "- **support**, **confidence dan lift**: metrik-metrik yang digunakan untuk menilai kualitas dari rule. Umumnya semakin besar semakin baik."
   ]
  },
  {
   "cell_type": "markdown",
   "metadata": {
    "Collapsed": "false"
   },
   "source": [
    "Jika dilihat, sepertinya rule kedua terlihat menarik. Mengapa? Hal tersebut disebabkan oleh nilai support yang mencapai angka 0.4 atau 40% dari populasi yang ada atau terdapat 4 dari 10 transaksi yang menggunakan rule/kombinasi tersebut. Nilai lift juga berada di atas 1, yang artinya rule ini memiliki asosisasi yagn tinggi antar itemset.\n",
    "\n",
    "Untuk rule pertama, tidak menarik. Hal ini dikarenakan terdapat satu item saja yang tidak menunjukkan adanya kombinasi.\n",
    "\n",
    "Untuk rule ketiga, memiliki support 0,1 atau terdapat 1 dari 10 transaksi yang mencerminkan rule ini."
   ]
  },
  {
   "cell_type": "markdown",
   "metadata": {
    "Collapsed": "false"
   },
   "source": [
    "Apa makna dari *rule* jika ingin diaplikasikan?\n",
    "\n",
    "Artinya ada beberapa opsi *action item* yang bisa kita lakukan:\n",
    "\n",
    "- rekomendasikan kepada setiap pelanggan yang membeli Pet Food untuk membeli Sirup.\n",
    "- rak display Pet Food dan Sirup bisa didekatkan.\n",
    "- Pet Food dan Sirup dipaketkan bersama dan dijual dengan harga khusus."
   ]
  },
  {
   "cell_type": "code",
   "execution_count": null,
   "metadata": {
    "Collapsed": "false"
   },
   "outputs": [],
   "source": []
  }
 ],
 "metadata": {
  "kernelspec": {
   "display_name": "R",
   "language": "R",
   "name": "ir"
  },
  "language_info": {
   "codemirror_mode": "r",
   "file_extension": ".r",
   "mimetype": "text/x-r-source",
   "name": "R",
   "pygments_lexer": "r",
   "version": "3.6.1"
  }
 },
 "nbformat": 4,
 "nbformat_minor": 4
}
