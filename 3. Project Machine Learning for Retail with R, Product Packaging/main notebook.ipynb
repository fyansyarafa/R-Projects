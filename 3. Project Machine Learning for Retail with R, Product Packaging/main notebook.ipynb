{
 "cells": [
  {
   "cell_type": "markdown",
   "metadata": {
    "Collapsed": "false"
   },
   "source": [
    "# Machine Learning for Retail"
   ]
  },
  {
   "cell_type": "markdown",
   "metadata": {
    "Collapsed": "false"
   },
   "source": [
    "## Create Next Best Offering to Drive Revenue and Loyalty\n",
    "\n",
    "**DQLab.id** Fashion adalah sebuah toko fashion yang menjual berbagai produk seperti jeans, kemeja, kosmetik, dan lain-lain. Walaupun cukup berkembang, namun dengan semakin banyaknya kompetitor dan banyak produk yang stoknya masih banyak tentunya membuat kuatir Pak Agus, manajer DQLab.id Fashion. \n",
    "\n",
    "Salah satu solusi adalah membuat paket yang inovatif. Dimana produk yang sebelumnya tidak terlalu laku tapi punya pangsa pasar malah bisa dipaketkan dan laku.\n",
    "\n",
    "Anda sebagai seorang data scientist, akan ditugaskan membantu Pak Agus untuk mengidentifikasi paket produk yang menarik untuk dipaketkan sehingga akhirnya bisa meningkatkan keuntungan dan loyalitas para pelanggan DQLab.id Fashion. Dan untuk wewujudkan ini, Anda akan menggunakan R dan algoritma aproriari dari paket **arules** di sepanjang project ini."
   ]
  },
  {
   "cell_type": "markdown",
   "metadata": {
    "Collapsed": "false"
   },
   "source": [
    "## Dataset Transaksi Penjualan DQLab.id Fashion\n",
    "Untuk memulai project ini, Pak Agus meminta **Pak Charlie**, data engineer dari DQLab.id Fashion memberikan data transaksi 3 bulan kepada Anda dalam bentuk format TSV (Tab Separated Value) dengan nama **transaksi_dqlab_retail.tsv** dengan jumlah baris 33,669 baris data (3,450 kode transaksi).\n",
    "\n",
    "Berikut adalah tampilan datanya.\n",
    "\n",
    "<img src='1.png'>\n",
    "\n",
    "Data transaksi ini telah dirapikan untuk Anda dengan hanya mengandung dua variable, yaitu:\n",
    "\n",
    "- Kode Transaksi\n",
    "- Nama Produk\n",
    "\n",
    "Variable lain seperti harga, tanggal, jumlah pembelian, dan lain-lain – tidak dimasukkan sesuai permintaan pihak DQLab.id Academy kepada DQLab.id Fashion dengan alasan dua variable tersebut sudah cukup."
   ]
  },
  {
   "cell_type": "markdown",
   "metadata": {
    "Collapsed": "false"
   },
   "source": [
    "## Petunjuk Penyelesaian Project\n",
    "Untuk menyelesaikan project, maka kita akan mengetikkan code yang perlu disubmit untuk dicek jawabannya benar atau salah. Berbeda dengan course, setiap code yang disubmit akan otomatis disimpan dan dimunculkan kondisi code terakhir setiap kali Anda buka soal terkait.\n",
    "\n",
    "Project ini terdiri dari 3 soal, yaitu:\n",
    "\n",
    "- Mendapatkan insight top 10 dan bottom 10 dari produk yang terjual.\n",
    "- Mendapatkan daftar seluruh kombinasi paket produk dengan korelasi yang kuat.\n",
    "- Mendapatkan daftar seluruh kombinasi paket produk dengan item tertentu.\n",
    "\n",
    "Tiap soal memerlukan input dataset yang telah dijelaskan pada subbab sebelumnya. Setelah diproses maka Anda perlu menuliskan dalam nama file sesuai petunjuk.\n",
    "\n",
    "Tugas Praktek\n",
    "\n",
    "Cobalah jalankan code yang sudah ada pada code editor berikut di mana file dataset dibaca dan kemudian langsung ditulis menggunakan function **write** dari package arules.\n",
    "\n",
    "Jika berjalan dengan lancar maka pada saat klik icon **Download Output File** seperti berikut.\n",
    "\n",
    "<img src='2.png'>\n",
    "\n",
    "Kita akan mendapatkan daftar file dimana salah satunya adalah file bernama **test_project_retail1.txt** seperti terlihat pada gambar berikut. Catatan: tampilan daftar file dapat berbeda dengan daftar milik Anda.\n",
    "\n",
    "<img src='2.png'>\n",
    "\n",
    "Tampilan di dalam file test_project_retail1.txt sebagian isinya akan terlihat sebagai berikut.\n",
    "\n",
    "<img src='4.png'>"
   ]
  },
  {
   "cell_type": "code",
   "execution_count": 2,
   "metadata": {
    "Collapsed": "false"
   },
   "outputs": [
    {
     "name": "stderr",
     "output_type": "stream",
     "text": [
      "Warning message:\n",
      "\"package 'arules' was built under R version 3.6.2\"Loading required package: Matrix\n",
      "\n",
      "Attaching package: 'arules'\n",
      "\n",
      "The following objects are masked from 'package:base':\n",
      "\n",
      "    abbreviate, write\n",
      "\n"
     ]
    }
   ],
   "source": [
    "library(arules)\n",
    "transaksi_tabular <- read.transactions(file=\"transaksi_dqlab_retail.tsv\", format=\"single\", sep=\"\\t\", cols=c(1,2), skip=1)\n",
    "write(transaksi_tabular, file=\"test_project_retail_2.txt\", sep=\",\")\n"
   ]
  },
  {
   "cell_type": "markdown",
   "metadata": {
    "Collapsed": "false"
   },
   "source": [
    "## Output Awal: Statistik Top 10\n",
    "Tahap pertama sebenarnya yang diinginkan oleh Pak Agus adalah melihat apakah Anda mampu memberikan info top 10 dari dataset transaksi yang diberikan.\n",
    "\n",
    "Buatlah script R untuk menghasilkan daftar tersebut, dan hasilnya disimpan ke dalam file **top10_item_retail.txt**.\n",
    "\n",
    "Gunakan dataset **transaksi_dqlab_retail.tsv** pada saat membaca data.\n",
    "\n",
    "Jika scriptnya berjalan dengan lancar, maka isi dari file tersebut akan terlihat sebagai berikut.\n",
    "```\n",
    "\"\",\"Nama.Produk\",\"Jumlah\"\n",
    "\"1\",\"Shampo Biasa\",2075\n",
    "\"2\",\"Serum Vitamin\",1685\n",
    "\"3\",\"Baju Batik Wanita\",1312\n",
    "\"4\",\"Baju Kemeja Putih\",1255\n",
    "\"5\",\"Celana Jogger Casual\",1136\n",
    "\"6\",\"Cover Koper\",1086\n",
    "\"7\",\"Sepatu Sandal Anak\",1062\n",
    "\"8\",\"Tali Pinggang Gesper Pria\",1003\n",
    "\"9\",\"Sepatu Sport merk Z\",888\n",
    "\"10\",\"Wedges Hitam\",849\n",
    "```\n",
    "Klik tombol Submit Code untuk pengecekan hasil.\n",
    "\n",
    "Hint: Gunakan kombinasi function itemFrequency, names, sort, dan data.frame."
   ]
  },
  {
   "cell_type": "code",
   "execution_count": 7,
   "metadata": {
    "Collapsed": "false"
   },
   "outputs": [],
   "source": [
    "data_item <- itemFrequency(transaksi_tabular, type = \"absolute\")"
   ]
  },
  {
   "cell_type": "code",
   "execution_count": 9,
   "metadata": {
    "Collapsed": "false"
   },
   "outputs": [],
   "source": [
    "data_item <- sort(x = data_item, decreasing = TRUE)"
   ]
  },
  {
   "cell_type": "code",
   "execution_count": 10,
   "metadata": {
    "Collapsed": "false"
   },
   "outputs": [],
   "source": [
    "data_item <- data_item[1:10]"
   ]
  },
  {
   "cell_type": "code",
   "execution_count": 11,
   "metadata": {
    "Collapsed": "false"
   },
   "outputs": [],
   "source": [
    "data_item <- data.frame(\"Nama.Produk\" = names(data_item), \"Jumlah\" = data_item, row.names = NULL)"
   ]
  },
  {
   "cell_type": "code",
   "execution_count": 13,
   "metadata": {
    "Collapsed": "false"
   },
   "outputs": [],
   "source": [
    "write.table(x = data_item,file = \"top10_item_retail2.txt\", sep = \",\")"
   ]
  },
  {
   "cell_type": "markdown",
   "metadata": {
    "Collapsed": "false"
   },
   "source": [
    "## Output Awal: Statistik Bottom 10\n",
    "Tahap berikutnya adalah Anda harus bisa memberikan informasi bottom 10 dari dataset transaksi yang diberikan.\n",
    "\n",
    "Tahap pertama sebenarnya yang diinginkan oleh Pak Agus adalah melihat apakah Anda mampu memberikan info top 10 dari dataset transaksi yang diberikan.\n",
    "\n",
    "Buatlah script R untuk menghasilkan daftar tersebut, dan hasilnya disimpan ke dalam file **bottom10_item_retail.txt**.\n",
    "\n",
    "Gunakan dataset **transaksi_dqlab_retail.tsv** pada saat membaca data.\n",
    "\n",
    "Jika scriptnya berjalan dengan lancar, maka isi dari file tersebut akan terlihat sebagai berikut.\n",
    "```\n",
    "\"\",\"Nama.Produk\",\"Jumlah\"\n",
    "\"1\",\"Celana Jeans Sobek Pria\",9\n",
    "\"2\",\"Tas Kosmetik\",11\n",
    "\"3\",\"Stripe Pants\",19\n",
    "\"4\",\"Pelembab\",24\n",
    "\"5\",\"Tali Ban Ikat Pinggang\",27\n",
    "\"6\",\"Baju Renang Pria Anak-anak\",32\n",
    "\"7\",\"Hair Dye\",46\n",
    "\"8\",\"Atasan Baju Belang\",56\n",
    "\"9\",\"Tas Sekolah Anak Perempuan\",71\n",
    "\"10\",\"Dompet Unisex\",75\n",
    "```\n",
    "**Perhatikan urutan (sort) terhadap Nama Produk dan Jumlah.**\n"
   ]
  },
  {
   "cell_type": "code",
   "execution_count": 16,
   "metadata": {
    "Collapsed": "false"
   },
   "outputs": [],
   "source": [
    "bottom10 <- itemFrequency(transaksi_tabular, type = 'absolute')\n",
    "bottom10 <- sort(bottom10)\n"
   ]
  },
  {
   "cell_type": "code",
   "execution_count": 18,
   "metadata": {
    "Collapsed": "false"
   },
   "outputs": [],
   "source": [
    "bottom10 <- bottom10[1:10]"
   ]
  },
  {
   "cell_type": "code",
   "execution_count": 20,
   "metadata": {
    "Collapsed": "false"
   },
   "outputs": [],
   "source": [
    "bottom10 <- data.frame(\"Nama.Produk\" = names(bottom10), \"Jumlah\" = bottom10, row.names = NULL)"
   ]
  },
  {
   "cell_type": "code",
   "execution_count": 21,
   "metadata": {
    "Collapsed": "false"
   },
   "outputs": [
    {
     "data": {
      "text/html": [
       "<table>\n",
       "<thead><tr><th scope=col>Nama.Produk</th><th scope=col>Jumlah</th></tr></thead>\n",
       "<tbody>\n",
       "\t<tr><td>Celana Jeans Sobek Pria   </td><td> 9                        </td></tr>\n",
       "\t<tr><td>Tas Kosmetik              </td><td>11                        </td></tr>\n",
       "\t<tr><td>Stripe Pants              </td><td>19                        </td></tr>\n",
       "\t<tr><td>Pelembab                  </td><td>24                        </td></tr>\n",
       "\t<tr><td>Tali Ban Ikat Pinggang    </td><td>27                        </td></tr>\n",
       "\t<tr><td>Baju Renang Pria Anak-anak</td><td>32                        </td></tr>\n",
       "\t<tr><td>Hair Dye                  </td><td>46                        </td></tr>\n",
       "\t<tr><td>Atasan Baju Belang        </td><td>56                        </td></tr>\n",
       "\t<tr><td>Tas Sekolah Anak Perempuan</td><td>71                        </td></tr>\n",
       "\t<tr><td>Dompet Unisex             </td><td>75                        </td></tr>\n",
       "</tbody>\n",
       "</table>\n"
      ],
      "text/latex": [
       "\\begin{tabular}{r|ll}\n",
       " Nama.Produk & Jumlah\\\\\n",
       "\\hline\n",
       "\t Celana Jeans Sobek Pria    &  9                        \\\\\n",
       "\t Tas Kosmetik               & 11                        \\\\\n",
       "\t Stripe Pants               & 19                        \\\\\n",
       "\t Pelembab                   & 24                        \\\\\n",
       "\t Tali Ban Ikat Pinggang     & 27                        \\\\\n",
       "\t Baju Renang Pria Anak-anak & 32                        \\\\\n",
       "\t Hair Dye                   & 46                        \\\\\n",
       "\t Atasan Baju Belang         & 56                        \\\\\n",
       "\t Tas Sekolah Anak Perempuan & 71                        \\\\\n",
       "\t Dompet Unisex              & 75                        \\\\\n",
       "\\end{tabular}\n"
      ],
      "text/markdown": [
       "\n",
       "| Nama.Produk | Jumlah |\n",
       "|---|---|\n",
       "| Celana Jeans Sobek Pria    |  9                         |\n",
       "| Tas Kosmetik               | 11                         |\n",
       "| Stripe Pants               | 19                         |\n",
       "| Pelembab                   | 24                         |\n",
       "| Tali Ban Ikat Pinggang     | 27                         |\n",
       "| Baju Renang Pria Anak-anak | 32                         |\n",
       "| Hair Dye                   | 46                         |\n",
       "| Atasan Baju Belang         | 56                         |\n",
       "| Tas Sekolah Anak Perempuan | 71                         |\n",
       "| Dompet Unisex              | 75                         |\n",
       "\n"
      ],
      "text/plain": [
       "   Nama.Produk                Jumlah\n",
       "1  Celana Jeans Sobek Pria     9    \n",
       "2  Tas Kosmetik               11    \n",
       "3  Stripe Pants               19    \n",
       "4  Pelembab                   24    \n",
       "5  Tali Ban Ikat Pinggang     27    \n",
       "6  Baju Renang Pria Anak-anak 32    \n",
       "7  Hair Dye                   46    \n",
       "8  Atasan Baju Belang         56    \n",
       "9  Tas Sekolah Anak Perempuan 71    \n",
       "10 Dompet Unisex              75    "
      ]
     },
     "metadata": {},
     "output_type": "display_data"
    }
   ],
   "source": [
    "bottom10"
   ]
  },
  {
   "cell_type": "code",
   "execution_count": 23,
   "metadata": {
    "Collapsed": "false"
   },
   "outputs": [],
   "source": [
    "write.table(x = bottom10,file = \"bottom10_item_retail.txt\", sep = \",\")"
   ]
  },
  {
   "cell_type": "code",
   "execution_count": 62,
   "metadata": {
    "Collapsed": "false"
   },
   "outputs": [
    {
     "data": {
      "text/plain": [
       "transactions in sparse format with\n",
       " 3450 transactions (rows) and\n",
       " 69 items (columns)"
      ]
     },
     "metadata": {},
     "output_type": "display_data"
    }
   ],
   "source": [
    "transaksi_tabular"
   ]
  },
  {
   "cell_type": "code",
   "execution_count": 63,
   "metadata": {
    "Collapsed": "false"
   },
   "outputs": [
    {
     "data": {
      "text/html": [
       "3450"
      ],
      "text/latex": [
       "3450"
      ],
      "text/markdown": [
       "3450"
      ],
      "text/plain": [
       "[1] 3450"
      ]
     },
     "metadata": {},
     "output_type": "display_data"
    }
   ],
   "source": [
    "nrow(transaksi_tabular)"
   ]
  },
  {
   "cell_type": "markdown",
   "metadata": {
    "Collapsed": "false"
   },
   "source": [
    "## Mendapatkan Kombinasi Produk yang menarik\n",
    "Setelah yakin Anda dapat melakukannya Pak Agus ingin Anda mengirimkan file yang berisi daftar 10 paket kombinasi produk yang paling \"menarik\".\n",
    "\n",
    "Anda pertamanya bingung, apa sih definisi menarik versi Pak Agus ini. Setelah wawancara intensif, ternyata pengertiannya adalah sebagai berikut:\n",
    "\n",
    "- Memiliki asosiasi atau hubungan erat.\n",
    "- Kombinasi produk minimal 2 item, dan maksimum 3 item.\n",
    "- Kombinasi produk itu muncul setidaknya **10 dari dari seluruh transaksi**.\n",
    "- Memiliki tingkat confidence minimal 50 persen.\n",
    "\n",
    "Buatlah script R untuk menghasilkan daftar tersebut dan hasilnya disimpan ke dalam file **kombinasi_retail.txt**. Namun untuk menulis hasil dari rules yang akan tampak seperti di bawah ini, Anda tidak perlu melakukan konversi rules menjadi data.frame. Gunakan langsung fungsi write dengan syntax berikut:\n",
    "\n",
    "    write(variable_untuk_rules, file=\"nama_file_yang_diinginkan.txt\")\n",
    "\n",
    "Gunakan dataset **transaksi_dqlab_retail.tsv** pada saat membaca data.\n",
    "\n",
    "Jika berjalan dengan lancar maka outputnya adalah sebagai berikut.\n",
    "```\n",
    "\"rules\" \"support\" \"confidence\" \"lift\"\n",
    "\"797\" \"{Tas Makeup,Tas Pinggang Wanita} => {Baju Renang Anak Perempuan}\" 0.0104347826086957 0.878048780487805 24.4295830055075\n",
    "\"807\" \"{Tas Makeup,Tas Travel} => {Baju Renang Anak Perempuan}\" 0.0101449275362319 0.813953488372093 22.6462865716429\n",
    "\"802\" \"{Tas Makeup,Tas Ransel Mini} => {Baju Renang Anak Perempuan}\" 0.011304347826087 0.735849056603774 20.4732197200243\n",
    "\"649\" \"{Sunblock Cream,Tas Pinggang Wanita} => {Kuas Makeup }\" 0.016231884057971 0.691358024691358 20.2134337727558\n",
    "\"796\" \"{Baju Renang Anak Perempuan,Tas Pinggang Wanita} => {Tas Makeup}\" 0.0104347826086957 0.8 19.5744680851064\n",
    "\"801\" \"{Baju Renang Anak Perempuan,Tas Ransel Mini} => {Tas Makeup}\" 0.011304347826087 0.795918367346939 19.4745983499783\n",
    "\"791\" \"{Baju Renang Anak Perempuan,Celana Pendek Green/Hijau} => {Tas Makeup}\" 0.0101449275362319 0.777777777777778 19.0307328605201\n",
    "\"799\" \"{Tas Makeup,Tas Waist Bag} => {Baju Renang Anak Perempuan}\" 0.00434782608695652 0.681818181818182 18.9699413489736\n",
    "\"792\" \"{Celana Pendek Green/Hijau,Tas Makeup} => {Baju Renang Anak Perempuan}\" 0.0101449275362319 0.673076923076923 18.7267369727047\n",
    "\"656\" \"{Dompet Flip Cover,Sunblock Cream} => {Kuas Makeup }\" 0.016231884057971 0.629213483146067 18.3964959055418\n",
    "```"
   ]
  },
  {
   "cell_type": "code",
   "execution_count": 64,
   "metadata": {
    "Collapsed": "false"
   },
   "outputs": [
    {
     "name": "stdout",
     "output_type": "stream",
     "text": [
      "Apriori\n",
      "\n",
      "Parameter specification:\n",
      " confidence minval smax arem  aval originalSupport maxtime     support minlen\n",
      "        0.5    0.1    1 none FALSE            TRUE       5 0.002898551      2\n",
      " maxlen target   ext\n",
      "      3  rules FALSE\n",
      "\n",
      "Algorithmic control:\n",
      " filter tree heap memopt load sort verbose\n",
      "    0.1 TRUE TRUE  FALSE TRUE    2    TRUE\n",
      "\n",
      "Absolute minimum support count: 10 \n",
      "\n",
      "set item appearances ...[0 item(s)] done [0.00s].\n",
      "set transactions ...[69 item(s), 3450 transaction(s)] done [0.00s].\n",
      "sorting and recoding items ... [68 item(s)] done [0.00s].\n",
      "creating transaction tree ... done [0.00s].\n",
      "checking subsets of size 1 2 3"
     ]
    },
    {
     "name": "stderr",
     "output_type": "stream",
     "text": [
      "Warning message in apriori(transaksi_tabular, parameter = list(supp = 10/nrow(transaksi_tabular), :\n",
      "\"Mining stopped (maxlen reached). Only patterns up to a length of 3 returned!\""
     ]
    },
    {
     "name": "stdout",
     "output_type": "stream",
     "text": [
      " done [0.01s].\n",
      "writing ... [4637 rule(s)] done [0.00s].\n",
      "creating S4 object  ... done [0.00s].\n"
     ]
    }
   ],
   "source": [
    "m <- apriori(transaksi_tabular, parameter = list(supp=10/nrow(transaksi_tabular), minlen =2 ,maxlen =3, confidence =0.5))\n"
   ]
  },
  {
   "cell_type": "code",
   "execution_count": 69,
   "metadata": {
    "Collapsed": "false"
   },
   "outputs": [],
   "source": [
    "data <- sort(m, by =\"lift\", decreasing = TRUE)\n",
    "data <- data[1:10]"
   ]
  },
  {
   "cell_type": "code",
   "execution_count": 74,
   "metadata": {
    "Collapsed": "false"
   },
   "outputs": [],
   "source": [
    "write(data, file = \"kombinasi_retail.txt\")"
   ]
  },
  {
   "cell_type": "markdown",
   "metadata": {
    "Collapsed": "false"
   },
   "source": [
    "## Mencari Paket Produk yang bisa dipasangkan dengan Item Slow-Moving\n",
    "Slow-moving item adalah produk yang pergerakan penjualannya lambat atau kurang cepat. Ini akan bermasalah apabila item produk tersebut masih menumpuk.\n",
    "\n",
    "Kadang kala item ini belum tentu tidak laku, hanya saja mungkin harganya tidak bagus dan jarang dibutuhkan jika dijual satuan.  Nah, jika tidak dijual satuan kita perlu cari asosiasi kuat dari item produk ini dengan produk lain sehingga jika dipaketkan akan menjadi lebih menarik.\n",
    "\n",
    "Pak Agus juga meyakini hal ini, dan ingin agar Anda membantu mengidentifikasi dua item produk yang menurut dia stoknya masih banyak dan perlu dicari pasangan item untuk pemaketannya.\n",
    "\n",
    "Dua item produk tersebut adalah **\"Tas Makeup\" dan \"Baju Renang Pria Anak-anak\"**. Pak Agus ingin meminta kombinasi yang bisa dipaketkan dengan kedua produk tersebut.\n",
    "\n",
    "Masing-masing produk tersebut dikeluarkan 3 rules yang asosiasinya paling kuat, sehingga total ada 6 rules. Persyaratan-persyaratan asosiasi kuat ini masih sama dengan yang telah disebutkan Pak Agus sebelumnya, kecuali tingkat *confidence* dicoba pada tingkat minimal 0.1.\n",
    "\n",
    "Buatlah script R untuk menghasilkan daftar tersebut dan hasilnya disimpan ke dalam file **kombinasi_retail_slow_moving.txt**. Dan untuk menghasilkan file ini, rules tidak usah dikonversi menjadi data frame dan bisa langsung ditulis dengan write seperti syntax berikut.\n",
    "\n",
    "    write(variable_untuk_rules, file=\"nama_file_yang_diinginkan.txt\")\n",
    "\n",
    "Gunakan dataset **transaksi_dqlab_retail.tsv** pada saat membaca data.\n",
    "\n",
    "Hint: Pada association rules, item \"Tas Makeup\" dan \"Baju Renang Pria Anak-anak\" tersebut kita masukkan di rhs (right hand side). Gabungkan kedua subset rules yang dengan function c sebelum dituliskan ke file."
   ]
  },
  {
   "cell_type": "code",
   "execution_count": 76,
   "metadata": {
    "Collapsed": "false"
   },
   "outputs": [
    {
     "name": "stdout",
     "output_type": "stream",
     "text": [
      "Apriori\n",
      "\n",
      "Parameter specification:\n",
      " confidence minval smax arem  aval originalSupport maxtime     support minlen\n",
      "        0.1    0.1    1 none FALSE            TRUE       5 0.002898551      2\n",
      " maxlen target   ext\n",
      "      3  rules FALSE\n",
      "\n",
      "Algorithmic control:\n",
      " filter tree heap memopt load sort verbose\n",
      "    0.1 TRUE TRUE  FALSE TRUE    2    TRUE\n",
      "\n",
      "Absolute minimum support count: 10 \n",
      "\n",
      "set item appearances ...[0 item(s)] done [0.02s].\n",
      "set transactions ...[69 item(s), 3450 transaction(s)] done [0.11s].\n",
      "sorting and recoding items ... [68 item(s)] done [0.00s].\n",
      "creating transaction tree ... done [0.01s].\n",
      "checking subsets of size 1 2 3"
     ]
    },
    {
     "name": "stderr",
     "output_type": "stream",
     "text": [
      "Warning message in apriori(transaksi_tabular, parameter = list(supp = 10/nrow(transaksi_tabular), :\n",
      "\"Mining stopped (maxlen reached). Only patterns up to a length of 3 returned!\""
     ]
    },
    {
     "name": "stdout",
     "output_type": "stream",
     "text": [
      " done [0.69s].\n",
      "writing ... [39832 rule(s)] done [0.01s].\n",
      "creating S4 object  ... done [0.58s].\n"
     ]
    }
   ],
   "source": [
    "#Mencari Paket Produk yang bisa dipasangkan dengan Item Slow-Moving\n",
    "mba4 <- apriori(transaksi_tabular, parameter = list(supp = 10/nrow(transaksi_tabular), \n",
    "                                                    confidence = 0.1, \n",
    "                                                    minlen = 2,\n",
    "                                                    maxlen = 3))\n",
    "\n",
    "tmdata <- subset(mba4, rhs %in% \"Tas Makeup\")\n",
    "tmdata <- sort(tmdata, by = \"lift\", decreasing = TRUE)\n",
    "tmdata <- tmdata[1:3]\n",
    "\n",
    "brpdata <- subset(mba4, rhs %in% \"Baju Renang Pria Anak-anak\")\n",
    "brpdata <- sort(brpdata, by = \"lift\", decreasing = TRUE)\n",
    "brpdata <- brpdata[1:3]\n",
    "\n",
    "gabslow <- c(tmdata, brpdata)\n",
    "write(gabslow, file = \"kombinasi_retail_slow_moving.txt\")"
   ]
  },
  {
   "cell_type": "code",
   "execution_count": 77,
   "metadata": {
    "Collapsed": "false"
   },
   "outputs": [
    {
     "name": "stdout",
     "output_type": "stream",
     "text": [
      "    lhs                             rhs                              support confidence     lift count\n",
      "[1] {Baju Renang Anak Perempuan,                                                                      \n",
      "     Tas Pinggang Wanita}        => {Tas Makeup}                 0.010434783  0.8000000 19.57447    36\n",
      "[2] {Baju Renang Anak Perempuan,                                                                      \n",
      "     Tas Ransel Mini}            => {Tas Makeup}                 0.011304348  0.7959184 19.47460    39\n",
      "[3] {Baju Renang Anak Perempuan,                                                                      \n",
      "     Celana Pendek Green/Hijau}  => {Tas Makeup}                 0.010144928  0.7777778 19.03073    35\n",
      "[4] {Gembok Koper,                                                                                    \n",
      "     Tas Waist Bag}              => {Baju Renang Pria Anak-anak} 0.004057971  0.2745098 29.59559    14\n",
      "[5] {Flat Shoes Ballerina,                                                                            \n",
      "     Gembok Koper}               => {Baju Renang Pria Anak-anak} 0.004057971  0.1866667 20.12500    14\n",
      "[6] {Celana Jeans Sobek Wanita,                                                                       \n",
      "     Jeans Jumbo}                => {Baju Renang Pria Anak-anak} 0.005507246  0.1210191 13.04737    19\n"
     ]
    }
   ],
   "source": [
    "inspect(gabslow)"
   ]
  },
  {
   "cell_type": "code",
   "execution_count": null,
   "metadata": {
    "Collapsed": "false"
   },
   "outputs": [],
   "source": []
  }
 ],
 "metadata": {
  "kernelspec": {
   "display_name": "R",
   "language": "R",
   "name": "ir"
  },
  "language_info": {
   "codemirror_mode": "r",
   "file_extension": ".r",
   "mimetype": "text/x-r-source",
   "name": "R",
   "pygments_lexer": "r",
   "version": "3.6.1"
  }
 },
 "nbformat": 4,
 "nbformat_minor": 4
}
