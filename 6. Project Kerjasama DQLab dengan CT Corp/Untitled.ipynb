{
 "cells": [
  {
   "cell_type": "markdown",
   "metadata": {
    "Collapsed": "false"
   },
   "source": [
    "# Project Kerjasama DQLab dengan CT Corp"
   ]
  },
  {
   "cell_type": "markdown",
   "metadata": {
    "Collapsed": "false"
   },
   "source": [
    "## Apa saja yang dibahas dalam project ini?\n",
    "\n",
    "Project ini berupa tes terkait kemampuan data science Anda yang terdiri atas empat tes, yaitu:\n",
    "\n",
    "1. **Tes Probabilitas**, yang dirancang untuk memperlihatkan kemampuan member dalam mengkoseptualisasikan pengetahuan dalam bidang probabilitas.\n",
    "2. **Tes Statistik**, yang dirancang untuk memperlihatkan pengetahuan member terkait dasar-dasar ilmu statistik.\n",
    "3. **Tes Interpretasi Model**, yang dirancang untuk memperlihatkan kemampuan member dalam memberikan insight/kesimpulan dan pengambilan keputusan pendukung terkait dengan model yang dibangun melalui penerapan data science.\n",
    "4. **Tes Pemograman**, yang dirancang untuk memperlihatkan kemampuan member dalam menrepakan logical thinking (berfikir logis) melalui kode-kode program yang ditanyakan. Bahasa pemrograman yang digunakan adalah Python."
   ]
  },
  {
   "cell_type": "code",
   "execution_count": 2,
   "metadata": {
    "Collapsed": "false"
   },
   "outputs": [],
   "source": [
    "dic1 = {1:10, 2:20}\n",
    "dic2 = {3:30, 4:40}\n",
    "dic3 = {5:50, 6:60}"
   ]
  },
  {
   "cell_type": "code",
   "execution_count": 4,
   "metadata": {
    "Collapsed": "false"
   },
   "outputs": [
    {
     "name": "stdout",
     "output_type": "stream",
     "text": [
      "{1: 10, 2: 20, 3: 30, 4: 40, 5: 50, 6: 60}\n"
     ]
    }
   ],
   "source": [
    "merged = {**dic1, **dic2, **dic3}\n",
    "print(merged) # {'a': 1, 'b': 2, 'c': 3, 'd': 4, 'x': 5, 'y': 6}"
   ]
  },
  {
   "cell_type": "code",
   "execution_count": 5,
   "metadata": {
    "Collapsed": "false"
   },
   "outputs": [],
   "source": [
    "dic4 = {}"
   ]
  },
  {
   "cell_type": "code",
   "execution_count": null,
   "metadata": {
    "Collapsed": "false"
   },
   "outputs": [],
   "source": [
    "for "
   ]
  },
  {
   "cell_type": "markdown",
   "metadata": {
    "Collapsed": "false"
   },
   "source": [
    "# Probabilitas"
   ]
  },
  {
   "cell_type": "markdown",
   "metadata": {
    "Collapsed": "false"
   },
   "source": [
    "# Statistik"
   ]
  },
  {
   "cell_type": "markdown",
   "metadata": {
    "Collapsed": "false"
   },
   "source": [
    "# Interpretasi Model"
   ]
  },
  {
   "cell_type": "markdown",
   "metadata": {
    "Collapsed": "false"
   },
   "source": [
    "# Tantangan Pemrograman Python"
   ]
  },
  {
   "cell_type": "markdown",
   "metadata": {
    "Collapsed": "false"
   },
   "source": [
    "# Penutup"
   ]
  },
  {
   "cell_type": "code",
   "execution_count": null,
   "metadata": {
    "Collapsed": "false"
   },
   "outputs": [],
   "source": []
  }
 ],
 "metadata": {
  "kernelspec": {
   "display_name": "Python 3",
   "language": "python",
   "name": "python3"
  },
  "language_info": {
   "codemirror_mode": {
    "name": "ipython",
    "version": 3
   },
   "file_extension": ".py",
   "mimetype": "text/x-python",
   "name": "python",
   "nbconvert_exporter": "python",
   "pygments_lexer": "ipython3",
   "version": "3.7.6"
  }
 },
 "nbformat": 4,
 "nbformat_minor": 4
}
